{
 "cells": [
  {
   "cell_type": "code",
   "execution_count": 1,
   "id": "252a4d41",
   "metadata": {},
   "outputs": [],
   "source": [
    "import pandas as pd\n",
    "import airbnb_scraper.pyairbnb as pyairbnb\n",
    "import json\n",
    "import time\n",
    "from tqdm import tqdm\n",
    "from datetime import datetime"
   ]
  },
  {
   "cell_type": "code",
   "execution_count": null,
   "id": "9b25f0bc",
   "metadata": {},
   "outputs": [],
   "source": [
    "\n",
    "listings_path = r\"C:\\Users\\fraxi\\OneDrive\\Desktop\\code task\\Amsterdam\\listings.csv\"\n",
    "output_path = r\"C:\\Users\\fraxi\\OneDrive\\Desktop\\code task\\Amsterdam\\transaction_pairs.csv\"\n",
    "top_n = 10\n",
    "language = \"en\"\n",
    "proxy_url = None\n"
   ]
  },
  {
   "cell_type": "code",
   "execution_count": null,
   "id": "fa56933c",
   "metadata": {},
   "outputs": [],
   "source": [
    "\n",
    "\n",
    "df = pd.read_csv(listings_path)\n",
    "cutoff_date = datetime(2017, 1, 1)\n",
    "df['first_review'] = pd.to_datetime(df['first_review'], errors='coerce')\n",
    "df = df[df['first_review'] < cutoff_date]\n",
    "\n",
    "\n",
    "df = df[['id', 'host_id']].dropna().drop_duplicates()\n",
    "\n",
    "\n",
    "all_pairs = []\n"
   ]
  },
  {
   "cell_type": "code",
   "execution_count": null,
   "id": "7a93811e",
   "metadata": {},
   "outputs": [
    {
     "name": "stderr",
     "output_type": "stream",
     "text": [
      "Scraping listings:   0%|          | 5/1442 [00:30<1:47:43,  4.50s/it]"
     ]
    },
    {
     "name": "stdout",
     "output_type": "stream",
     "text": [
      "\n",
      "❌ 房源 47061 报错: 'NoneType' object is not subscriptable\n"
     ]
    },
    {
     "name": "stderr",
     "output_type": "stream",
     "text": [
      "Scraping listings:   8%|▊         | 112/1442 [08:33<1:35:58,  4.33s/it]"
     ]
    },
    {
     "name": "stdout",
     "output_type": "stream",
     "text": [
      "\n",
      "❌ 房源 693675 报错: 'NoneType' object is not subscriptable\n"
     ]
    },
    {
     "name": "stderr",
     "output_type": "stream",
     "text": [
      "Scraping listings:   9%|▉         | 129/1442 [09:42<1:06:08,  3.02s/it]"
     ]
    },
    {
     "name": "stdout",
     "output_type": "stream",
     "text": [
      "\n",
      "❌ 房源 747847 报错: 'NoneType' object is not subscriptable\n"
     ]
    },
    {
     "name": "stderr",
     "output_type": "stream",
     "text": [
      "Scraping listings:  21%|██        | 302/1442 [22:05<52:55,  2.79s/it]  "
     ]
    },
    {
     "name": "stdout",
     "output_type": "stream",
     "text": [
      "\n",
      "❌ 房源 1657879 报错: 'NoneType' object is not subscriptable\n"
     ]
    },
    {
     "name": "stderr",
     "output_type": "stream",
     "text": [
      "Scraping listings:  32%|███▏      | 456/1442 [32:20<33:46,  2.06s/it]  "
     ]
    },
    {
     "name": "stdout",
     "output_type": "stream",
     "text": [
      "\n",
      "❌ 房源 3184089 报错: 'NoneType' object is not subscriptable\n"
     ]
    },
    {
     "name": "stderr",
     "output_type": "stream",
     "text": [
      "Scraping listings:  36%|███▌      | 517/1442 [35:24<35:36,  2.31s/it]  "
     ]
    },
    {
     "name": "stdout",
     "output_type": "stream",
     "text": [
      "\n",
      "❌ 房源 3772476 报错: 'NoneType' object is not subscriptable\n"
     ]
    },
    {
     "name": "stderr",
     "output_type": "stream",
     "text": [
      "Scraping listings:  37%|███▋      | 533/1442 [36:13<33:03,  2.18s/it]  "
     ]
    },
    {
     "name": "stdout",
     "output_type": "stream",
     "text": [
      "\n",
      "❌ 房源 3903880 报错: 'NoneType' object is not subscriptable\n"
     ]
    },
    {
     "name": "stderr",
     "output_type": "stream",
     "text": [
      "Scraping listings:  42%|████▏     | 612/1442 [41:56<55:23,  4.00s/it]  "
     ]
    },
    {
     "name": "stdout",
     "output_type": "stream",
     "text": [
      "\n",
      "❌ 房源 4715688 报错: 'NoneType' object is not subscriptable\n"
     ]
    },
    {
     "name": "stderr",
     "output_type": "stream",
     "text": [
      "Scraping listings:  53%|█████▎    | 760/1442 [50:50<31:59,  2.81s/it]  "
     ]
    },
    {
     "name": "stdout",
     "output_type": "stream",
     "text": [
      "\n",
      "❌ 房源 6325430 报错: 'NoneType' object is not subscriptable\n"
     ]
    },
    {
     "name": "stderr",
     "output_type": "stream",
     "text": [
      "Scraping listings:  62%|██████▏   | 895/1442 [58:35<18:33,  2.04s/it]  "
     ]
    },
    {
     "name": "stdout",
     "output_type": "stream",
     "text": [
      "\n",
      "❌ 房源 7674094 报错: 'NoneType' object is not subscriptable\n"
     ]
    },
    {
     "name": "stderr",
     "output_type": "stream",
     "text": [
      "Scraping listings:  71%|███████   | 1018/1442 [1:05:58<16:26,  2.33s/it]"
     ]
    },
    {
     "name": "stdout",
     "output_type": "stream",
     "text": [
      "\n",
      "❌ 房源 9772215 报错: HTTP Error 503: \n"
     ]
    },
    {
     "name": "stderr",
     "output_type": "stream",
     "text": [
      "Scraping listings:  72%|███████▏  | 1041/1442 [1:07:05<11:05,  1.66s/it]"
     ]
    },
    {
     "name": "stdout",
     "output_type": "stream",
     "text": [
      "\n",
      "❌ 房源 10096971 报错: 'NoneType' object is not subscriptable\n"
     ]
    },
    {
     "name": "stderr",
     "output_type": "stream",
     "text": [
      "Scraping listings:  83%|████████▎ | 1195/1442 [1:16:10<09:05,  2.21s/it]"
     ]
    },
    {
     "name": "stdout",
     "output_type": "stream",
     "text": [
      "\n",
      "❌ 房源 12863352 报错: 'NoneType' object is not subscriptable\n"
     ]
    },
    {
     "name": "stderr",
     "output_type": "stream",
     "text": [
      "Scraping listings:  88%|████████▊ | 1267/1442 [1:19:58<05:28,  1.88s/it]"
     ]
    },
    {
     "name": "stdout",
     "output_type": "stream",
     "text": [
      "\n",
      "❌ 房源 13807499 报错: 'NoneType' object is not subscriptable\n"
     ]
    },
    {
     "name": "stderr",
     "output_type": "stream",
     "text": [
      "Scraping listings:  90%|████████▉ | 1291/1442 [1:21:11<11:37,  4.62s/it]"
     ]
    },
    {
     "name": "stdout",
     "output_type": "stream",
     "text": [
      "\n",
      "❌ 房源 13952479 报错: HTTP Error 503: \n"
     ]
    },
    {
     "name": "stderr",
     "output_type": "stream",
     "text": [
      "Scraping listings:  91%|█████████ | 1308/1442 [1:22:17<05:44,  2.57s/it]"
     ]
    },
    {
     "name": "stdout",
     "output_type": "stream",
     "text": [
      "\n",
      "❌ 房源 14134576 报错: 'NoneType' object is not subscriptable\n"
     ]
    },
    {
     "name": "stderr",
     "output_type": "stream",
     "text": [
      "Scraping listings: 100%|██████████| 1442/1442 [1:30:27<00:00,  3.76s/it]\n"
     ]
    }
   ],
   "source": [
    "\n",
    "\n",
    "\n",
    "for idx, row in tqdm(df.iterrows(), total=len(df), desc=\"Scraping listings\"):\n",
    "    room_id = int(row['id'])\n",
    "    host_id = str(int(row['host_id']))\n",
    "    room_url = f\"https://www.airbnb.com/rooms/{room_id}\"\n",
    "\n",
    "    try:\n",
    "\n",
    "        details_data, price_input, cookies = pyairbnb.get_metadata_from_url(room_url, language, proxy_url)\n",
    "        product_id = price_input['product_id']\n",
    "        api_key = price_input['api_key']\n",
    "\n",
    "\n",
    "        raw_reviews = pyairbnb.reviews.get(api_key, product_id, \"USD\", language, proxy_url)\n",
    "\n",
    "        for review in raw_reviews:\n",
    "            guest = review.get(\"reviewer\", {})\n",
    "            host_response = review.get(\"response\", None)\n",
    "            created_at_str = review.get(\"createdAt\")\n",
    "            if not guest or not host_response or not created_at_str:\n",
    "                continue\n",
    "\n",
    "\n",
    "            pair = {\n",
    "                \"listing_id\": room_id,\n",
    "                \"listing_url\": room_url,\n",
    "                \"host_id\": host_id,\n",
    "                \"guest_id\": guest.get(\"id\"),\n",
    "                \"guest_name\": guest.get(\"firstName\"),\n",
    "                \"guest_comment\": review.get(\"comments\"),\n",
    "                \"host_response\": host_response,\n",
    "                \"rating\": review.get(\"rating\"),\n",
    "                \"date\": created_at_str,\n",
    "                \"language\": review.get(\"language\", \"\"),\n",
    "                \"guest_count\": review.get(\"guestCount\", None),\n",
    "            }\n",
    "            all_pairs.append(pair)\n",
    "\n",
    "    except Exception as e:\n",
    "        print(f\"romm {room_id} error: {e}\")\n",
    "        continue\n",
    "\n",
    "    time.sleep(1)  \n",
    "\n"
   ]
  },
  {
   "cell_type": "code",
   "execution_count": 5,
   "id": "a378f467",
   "metadata": {},
   "outputs": [
    {
     "name": "stdout",
     "output_type": "stream",
     "text": [
      "\n",
      "✅ 共保存 14011 条 2017 年之前的有效交易对到 C:\\Users\\fraxi\\OneDrive\\Desktop\\code task\\Amsterdam\\transaction_pairs.csv\n"
     ]
    }
   ],
   "source": [
    "# ====== 保存为 CSV ======\n",
    "df_out = pd.DataFrame(all_pairs)\n",
    "df_out.to_csv(output_path, index=False, encoding='utf-8-sig')\n",
    "print(f\"\\n✅ 共保存 {len(df_out)} 条 2017 年之前的有效交易对到 {output_path}\")\n"
   ]
  },
  {
   "cell_type": "code",
   "execution_count": 7,
   "id": "5b6f03d1",
   "metadata": {},
   "outputs": [
    {
     "name": "stdout",
     "output_type": "stream",
     "text": [
      "共有 3440 个唯一的 guest_id\n"
     ]
    }
   ],
   "source": [
    "#读取交易对 保留2017年之前的评论\n",
    "\n",
    "df_out['date'] = pd.to_datetime(df_out['date'], errors='coerce')\n",
    "df_out = df_out[df_out['date'] < '2017-01-01']\n",
    "\n",
    "unique_guest_ids = df_out['guest_id'].dropna().unique()\n",
    "print(f\"共有 {len(unique_guest_ids)} 个唯一的 guest_id\")"
   ]
  },
  {
   "cell_type": "code",
   "execution_count": null,
   "id": "0ef88610",
   "metadata": {},
   "outputs": [],
   "source": []
  }
 ],
 "metadata": {
  "kernelspec": {
   "display_name": "otter",
   "language": "python",
   "name": "python3"
  },
  "language_info": {
   "codemirror_mode": {
    "name": "ipython",
    "version": 3
   },
   "file_extension": ".py",
   "mimetype": "text/x-python",
   "name": "python",
   "nbconvert_exporter": "python",
   "pygments_lexer": "ipython3",
   "version": "3.11.7"
  }
 },
 "nbformat": 4,
 "nbformat_minor": 5
}
