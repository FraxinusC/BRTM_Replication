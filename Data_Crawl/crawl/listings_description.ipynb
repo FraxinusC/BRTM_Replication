{
 "cells": [
  {
   "cell_type": "code",
   "execution_count": 4,
   "id": "4c479f7e",
   "metadata": {},
   "outputs": [],
   "source": [
    "\n",
    "import time\n",
    "import pandas as pd\n",
    "import json"
   ]
  },
  {
   "cell_type": "code",
   "execution_count": null,
   "id": "a6498af5",
   "metadata": {},
   "outputs": [],
   "source": [
    "df = pd.read_csv(r\"C:\\Users\\fraxi\\OneDrive\\Desktop\\code task\\Amsterdam\\listings.csv\")\n",
    "# Display the first few rows of the DataFrame to understand its structure\n",
    "print(df.head())"
   ]
  },
  {
   "cell_type": "code",
   "execution_count": null,
   "id": "bf67849e",
   "metadata": {},
   "outputs": [
    {
     "name": "stdout",
     "output_type": "stream",
     "text": [
      "      id                         listing_url       scrape_id last_scraped  \\\n",
      "0  27886  https://www.airbnb.com/rooms/27886  20250609011745   2025-06-17   \n",
      "1  28871  https://www.airbnb.com/rooms/28871  20250609011745   2025-06-17   \n",
      "2  29051  https://www.airbnb.com/rooms/29051  20250609011745   2025-06-17   \n",
      "3  44391  https://www.airbnb.com/rooms/44391  20250609011745   2025-06-17   \n",
      "4  47061  https://www.airbnb.com/rooms/47061  20250609011745   2025-06-17   \n",
      "\n",
      "            source                                               name  \\\n",
      "0      city scrape  Romantic, stylish B&B houseboat in canal district   \n",
      "1      city scrape                            Comfortable double room   \n",
      "2      city scrape                   Comfortable single / double room   \n",
      "3  previous scrape    Quiet 2-bedroom Amsterdam city centre apartment   \n",
      "4      city scrape                   Charming apartment in old centre   \n",
      "\n",
      "                                         description  \\\n",
      "0  Stylish and romantic houseboat on fantastic hi...   \n",
      "1          Basic bedroom in the center of Amsterdam.   \n",
      "2  This room can also be rented as a single or a ...   \n",
      "3  Guests greatly appreciate the unique location ...   \n",
      "4  A beautiful, quiet apartment in the center of ...   \n",
      "\n",
      "                               neighborhood_overview  \\\n",
      "0         Central, quiet, safe, clean and beautiful.   \n",
      "1       Flower market , Leidseplein , Rembrantsplein   \n",
      "2  the street is quite lively especially on weeke...   \n",
      "3  The appartment is located in the city centre. ...   \n",
      "4                                                NaN   \n",
      "\n",
      "                                         picture_url  host_id  ...  \\\n",
      "0  https://a0.muscache.com/pictures/02c2da9d-660e...    97647  ...   \n",
      "1  https://a0.muscache.com/pictures/160889/362340...   124245  ...   \n",
      "2  https://a0.muscache.com/pictures/162009/bd6be2...   124245  ...   \n",
      "3  https://a0.muscache.com/pictures/97741545/3900...   194779  ...   \n",
      "4  https://a0.muscache.com/pictures/268343/a08ce2...   211696  ...   \n",
      "\n",
      "  review_scores_communication review_scores_location review_scores_value  \\\n",
      "0                        4.92                   4.90                4.78   \n",
      "1                        4.94                   4.94                4.84   \n",
      "2                        4.92                   4.87                4.79   \n",
      "3                        4.90                   4.68                4.50   \n",
      "4                        4.90                   4.85                4.63   \n",
      "\n",
      "                    license instant_bookable calculated_host_listings_count  \\\n",
      "0  0363 974D 4986 7411 88D8                f                              1   \n",
      "1  0363 607B EA74 0BD8 2F6F                f                              2   \n",
      "2  0363 607B EA74 0BD8 2F6F                f                              2   \n",
      "3  0363 E76E F06A C1DD 172C                f                              1   \n",
      "4  0363 1266 8C04 4133 E6AC                f                              1   \n",
      "\n",
      "  calculated_host_listings_count_entire_homes  \\\n",
      "0                                           0   \n",
      "1                                           0   \n",
      "2                                           0   \n",
      "3                                           1   \n",
      "4                                           1   \n",
      "\n",
      "  calculated_host_listings_count_private_rooms  \\\n",
      "0                                            1   \n",
      "1                                            2   \n",
      "2                                            2   \n",
      "3                                            0   \n",
      "4                                            0   \n",
      "\n",
      "  calculated_host_listings_count_shared_rooms reviews_per_month  \n",
      "0                                           0              1.85  \n",
      "1                                           0              3.93  \n",
      "2                                           0              4.74  \n",
      "3                                           0              0.23  \n",
      "4                                           0              1.13  \n",
      "\n",
      "[5 rows x 79 columns]\n"
     ]
    }
   ],
   "source": [
    "# Select the specified columns\n",
    "selected_columns = [\n",
    "    \"id\", \"listing_url\", \"scrape_id\", \"last_scraped\", \"source\", \"name\", \"description\",\n",
    "    \"neighborhood_overview\", \"picture_url\", \"host_id\", \"host_url\", \"host_name\",\n",
    "    \"host_since\", \"host_location\", \"neighbourhood\", \"latitude\", \"longitude\",\n",
    "    \"property_type\", \"room_type\", \"accommodates\"\n",
    "]\n",
    "\n",
    "# Filter the DataFrame\n",
    "filtered_df = df[selected_columns]\n",
    "\n",
    "df.to_csv(r\"C:\\Users\\fraxi\\OneDrive\\Desktop\\code task\\Amsterdam\\listings_description.csv\", index=False)"
   ]
  },
  {
   "cell_type": "code",
   "execution_count": 3,
   "id": "feda76ef",
   "metadata": {},
   "outputs": [],
   "source": [
    "reviews_df = pd.read_csv(r\"C:\\Users\\fraxi\\OneDrive\\Desktop\\code task\\Amsterdam\\reviews.csv\")\n",
    "transaction_pairs_df = pd.read_csv(r\"C:\\Users\\fraxi\\OneDrive\\Desktop\\code task\\Amsterdam\\transaction_pairs.csv\")"
   ]
  },
  {
   "cell_type": "code",
   "execution_count": null,
   "id": "e4f8c0aa",
   "metadata": {},
   "outputs": [],
   "source": [
    "\n",
    "transaction_pairs_df['date'] = pd.to_datetime(transaction_pairs_df['date'], errors='coerce')\n",
    "transaction_pairs_df = transaction_pairs_df[transaction_pairs_df['date'] < '2017-01-01']\n",
    "\n",
    "reviews_df = reviews_df[reviews_df['reviewer_id'].isin(transaction_pairs_df['guest_id'])]"
   ]
  },
  {
   "cell_type": "code",
   "execution_count": 5,
   "id": "d0606e58",
   "metadata": {},
   "outputs": [],
   "source": [
    "# save the reviews_df \n",
    "reviews_df.to_csv(r\"C:\\Users\\fraxi\\OneDrive\\Desktop\\code task\\Amsterdam\\reviews_a(,i).csv\", index=False)"
   ]
  },
  {
   "cell_type": "code",
   "execution_count": null,
   "id": "3f310821",
   "metadata": {},
   "outputs": [],
   "source": [
    "\n",
    "a_i_df = pd.read_csv(r\"C:\\Users\\fraxi\\OneDrive\\Desktop\\code task\\data/A(,i)_reviews.csv\")\n"
   ]
  },
  {
   "cell_type": "code",
   "execution_count": null,
   "id": "8c6f94ff",
   "metadata": {},
   "outputs": [],
   "source": [
    "\n",
    "\n",
    "def build_documents(df, id_col, text_col):\n",
    "    grouped = df.groupby(id_col)[text_col].apply(lambda x: \" \".join(str(i) for i in x if pd.notna(i)))\n",
    "    return grouped.reset_index().rename(columns={text_col: \"document\"})\n",
    "\n",
    "A_i_docs = build_documents(a_i_df, \"reviewer_id\", \"comments\")"
   ]
  },
  {
   "cell_type": "code",
   "execution_count": 9,
   "id": "d9d4a9f3",
   "metadata": {},
   "outputs": [],
   "source": [
    "A_i_docs.to_csv(r\"C:\\Users\\fraxi\\OneDrive\\Desktop\\code task\\data/A(,i)_reviews.csv\", index=False)"
   ]
  }
 ],
 "metadata": {
  "kernelspec": {
   "display_name": "base",
   "language": "python",
   "name": "python3"
  },
  "language_info": {
   "codemirror_mode": {
    "name": "ipython",
    "version": 3
   },
   "file_extension": ".py",
   "mimetype": "text/x-python",
   "name": "python",
   "nbconvert_exporter": "python",
   "pygments_lexer": "ipython3",
   "version": "3.12.7"
  }
 },
 "nbformat": 4,
 "nbformat_minor": 5
}
