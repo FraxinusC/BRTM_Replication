{
 "cells": [
  {
   "cell_type": "code",
   "execution_count": 51,
   "id": "ef187eab",
   "metadata": {},
   "outputs": [],
   "source": [
    "import json\n",
    "import pandas as pd\n",
    "from datetime import datetime\n",
    "import time\n",
    "from tqdm import tqdm\n",
    "import airbnb_scraper.pyairbnb as pyairbnb"
   ]
  },
  {
   "cell_type": "code",
   "execution_count": null,
   "id": "d4b92abd",
   "metadata": {},
   "outputs": [],
   "source": [
    "def batch_scrape(guest_ids, api_key, cookies, proxy_url=None, delay=0.5):\n",
    "    basic_info_list = []\n",
    "    host_reviews_list = []\n",
    "    guest_reviews_list = []\n",
    "    \n",
    "    for gid in tqdm(guest_ids, desc=\"Scraping guests\"):\n",
    "        try:\n",
    "            data = pyairbnb.guest_details.get(api_key, cookies, gid, proxy_url)\n",
    "            user_profile = data[\"data\"][\"presentation\"][\"userProfileContainer\"][\"userProfile\"]\n",
    "            if not user_profile:\n",
    "                continue\n",
    "\n",
    "            # ===== Basic Information =====\n",
    "            basic_info = {\n",
    "                \"guest_id\": gid,\n",
    "                \"smartName\": user_profile.get(\"smartName\"),\n",
    "                \"displayFirstName\": user_profile.get(\"displayFirstName\"),\n",
    "                \"about\": user_profile.get(\"about\"),\n",
    "                \"createdAt\": user_profile.get(\"createdAt\"),\n",
    "                \"join_year\": datetime.fromisoformat(user_profile[\"createdAt\"]).year if user_profile.get(\"createdAt\") else None,\n",
    "                \"join_month\": datetime.fromisoformat(user_profile[\"createdAt\"]).month if user_profile.get(\"createdAt\") else None,\n",
    "                \"isSuperhost\": user_profile.get(\"isSuperhost\"),\n",
    "                \"isHomeHost\": user_profile.get(\"isHomeHost\"),\n",
    "                \"guestType\": user_profile.get(\"guestType\"),\n",
    "                \"facebookConnected\": user_profile.get(\"facebookConnected\"),\n",
    "                \"hasProfilePicture\": user_profile.get(\"hasProfilePicture\"),\n",
    "                \"profilePictureUrl\": user_profile.get(\"profilePictureUrl\"),\n",
    "                \"identityVerified\": user_profile.get(\"hasIdentityBadge\"),\n",
    "                \"verifiedTypes\": \",\".join(user_profile.get(\"identityVerificationTypes\", [])),\n",
    "                \"languages\": \",\".join([lang[\"name\"] for lang in user_profile.get(\"i18nSpokenLanguages\", [])]),\n",
    "                \"interests\": \",\".join([i[\"title\"] for i in user_profile.get(\"allInterestsList\", [])]),\n",
    "                \"years_on_platform\": user_profile.get(\"timeAsUser\", {}).get(\"years\"),\n",
    "                \"months_on_platform\": user_profile.get(\"timeAsUser\", {}).get(\"months\"),\n",
    "            }\n",
    "            basic_info_list.append(basic_info)\n",
    "\n",
    "            # ===== Host Reviews (Guest as Host) =====\n",
    "            for r in user_profile.get(\"reviewsReceivedFromGuests\", {}).get(\"reviews\", []):\n",
    "                host_reviews_list.append({\n",
    "                    \"guest_id\": gid,\n",
    "                    # Main fields\n",
    "                    \"id\": r.get(\"id\"),\n",
    "                    \"createdAt\": r.get(\"createdAt\"),\n",
    "                    \"comments\": r.get(\"comments\"),\n",
    "                    \"entityType\": r.get(\"entityType\"),\n",
    "                    \"rating\": r.get(\"rating\"),\n",
    "                    \"response\": r.get(\"response\"),\n",
    "                    \"respondedAt\": r.get(\"respondedAt\"),\n",
    "                    \"isHostHighlight\": r.get(\"isHostHighlight\"),\n",
    "                    \"listing\": r.get(\"listing\"),\n",
    "                    \"photos\": r.get(\"photos\"),\n",
    "\n",
    "                    # Reviewee (current guest)\n",
    "                    \"reviewee.id\": r.get(\"reviewee\", {}).get(\"id\"),\n",
    "                    \"reviewee.smartName\": r.get(\"reviewee\", {}).get(\"smartName\"),\n",
    "                    \"reviewee.pictureUrl\": r.get(\"reviewee\", {}).get(\"pictureUrl\"),\n",
    "                    \"reviewee.createdAt\": r.get(\"reviewee\", {}).get(\"createdAt\"),\n",
    "                    \"reviewee.isSuperhost\": r.get(\"reviewee\", {}).get(\"isSuperhost\"),\n",
    "\n",
    "                    # Reviewer (guest)\n",
    "                    \"reviewer.id\": r.get(\"reviewer\", {}).get(\"id\"),\n",
    "                    \"reviewer.smartName\": r.get(\"reviewer\", {}).get(\"smartName\"),\n",
    "                    \"reviewer.pictureUrl\": r.get(\"reviewer\", {}).get(\"pictureUrl\"),\n",
    "                    \"reviewer.location\": r.get(\"reviewer\", {}).get(\"location\"),\n",
    "                    \"reviewer.createdAt\": r.get(\"reviewer\", {}).get(\"createdAt\"),\n",
    "                    \"reviewer.isSuperhost\": r.get(\"reviewer\", {}).get(\"isSuperhost\"),\n",
    "\n",
    "                    # Translation fields\n",
    "                    \"translation.comments\": r.get(\"translation\", {}).get(\"comments\"),\n",
    "                    \"translation.commentsLanguage\": r.get(\"translation\", {}).get(\"commentsLanguage\"),\n",
    "                    \"translation.response\": r.get(\"translation\", {}).get(\"response\"),\n",
    "                    \"translation.responseLanguage\": r.get(\"translation\", {}).get(\"responseLanguage\"),\n",
    "                })\n",
    "\n",
    "            # ===== Guest Reviews (Guest as Guest) =====\n",
    "            for r in user_profile.get(\"reviewsReceivedFromHosts\", {}).get(\"reviews\", []):\n",
    "                guest_reviews_list.append({\n",
    "                    \"guest_id\": gid,\n",
    "                    # Main fields\n",
    "                    \"id\": r.get(\"id\"),\n",
    "                    \"createdAt\": r.get(\"createdAt\"),\n",
    "                    \"comments\": r.get(\"comments\"),\n",
    "                    \"entityType\": r.get(\"entityType\"),\n",
    "                    \"rating\": r.get(\"rating\"),\n",
    "                    \"response\": r.get(\"response\"),\n",
    "                    \"respondedAt\": r.get(\"respondedAt\"),\n",
    "                    \"isHostHighlight\": r.get(\"isHostHighlight\"),\n",
    "                    \"listing\": r.get(\"listing\"),\n",
    "                    \"photos\": r.get(\"photos\"),\n",
    "\n",
    "                    # Reviewee (guest themselves)\n",
    "                    \"reviewee.id\": r.get(\"reviewee\", {}).get(\"id\"),\n",
    "                    \"reviewee.smartName\": r.get(\"reviewee\", {}).get(\"smartName\"),\n",
    "                    \"reviewee.pictureUrl\": r.get(\"reviewee\", {}).get(\"pictureUrl\"),\n",
    "                    \"reviewee.createdAt\": r.get(\"reviewee\", {}).get(\"createdAt\"),\n",
    "                    \"reviewee.isSuperhost\": r.get(\"reviewee\", {}).get(\"isSuperhost\"),\n",
    "\n",
    "                    # Reviewer (host)\n",
    "                    \"reviewer.id\": r.get(\"reviewer\", {}).get(\"id\"),\n",
    "                    \"reviewer.smartName\": r.get(\"reviewer\", {}).get(\"smartName\"),\n",
    "                    \"reviewer.pictureUrl\": r.get(\"reviewer\", {}).get(\"pictureUrl\"),\n",
    "                    \"reviewer.location\": r.get(\"reviewer\", {}).get(\"location\"),\n",
    "                    \"reviewer.createdAt\": r.get(\"reviewer\", {}).get(\"createdAt\"),\n",
    "                    \"reviewer.isSuperhost\": r.get(\"reviewer\", {}).get(\"isSuperhost\"),\n",
    "\n",
    "                    # Translation fields\n",
    "                    \"translation.comments\": r.get(\"translation\", {}).get(\"comments\"),\n",
    "                    \"translation.commentsLanguage\": r.get(\"translation\", {}).get(\"commentsLanguage\"),\n",
    "                    \"translation.response\": r.get(\"translation\", {}).get(\"response\"),\n",
    "                    \"translation.responseLanguage\": r.get(\"translation\", {}).get(\"responseLanguage\"),\n",
    "                })\n",
    "\n",
    "        except Exception as e:\n",
    "            print(f\"❌ Error for guest_id {gid}: {e}\")\n",
    "        time.sleep(delay)\n",
    "\n",
    "    # ===== Save CSV Files =====\n",
    "    pd.DataFrame(basic_info_list).to_csv(r\"C:\\Users\\fraxi\\OneDrive\\Desktop\\code task\\Amsterdam\\open_guest_basic_info.csv\", index=False, encoding=\"utf-8-sig\")\n",
    "    pd.DataFrame(host_reviews_list).to_csv(r\"C:\\Users\\fraxi\\OneDrive\\Desktop\\code task\\Amsterdam\\open_guest_reviews_by_guests.csv\", index=False, encoding=\"utf-8-sig\")\n",
    "    pd.DataFrame(guest_reviews_list).to_csv(r\"C:\\Users\\fraxi\\OneDrive\\Desktop\\code task\\Amsterdam\\open_guest_reviews_by_hosts.csv\", index=False, encoding=\"utf-8-sig\")\n",
    "    print(\"✅ All files have been saved!\")\n"
   ]
  },
  {
   "cell_type": "code",
   "execution_count": null,
   "id": "d039792a",
   "metadata": {},
   "outputs": [],
   "source": [
    "df = pd.read_csv(r\"C:\\Users\\fraxi\\OneDrive\\Desktop\\code task\\Amsterdam\\transaction_pairs.csv\")\n",
    "\n",
    "guest_ids = df['guest_id'].dropna().astype(str).drop_duplicates().head(50).tolist()\n"
   ]
  },
  {
   "cell_type": "code",
   "execution_count": 54,
   "id": "e4f15e7e",
   "metadata": {},
   "outputs": [],
   "source": [
    "proxy_url=None\n",
    "api_key = pyairbnb.get_api_key(proxy_url)\n",
    "cookies = {}\n",
    "results = []"
   ]
  },
  {
   "cell_type": "code",
   "execution_count": 55,
   "id": "76d9806a",
   "metadata": {},
   "outputs": [
    {
     "name": "stderr",
     "output_type": "stream",
     "text": [
      "Scraping guests:   6%|▌         | 3/50 [00:00<00:15,  3.00it/s]"
     ]
    },
    {
     "name": "stdout",
     "output_type": "stream",
     "text": [
      "❌ Error for guest_id 17290755: 'NoneType' object has no attribute 'get'\n"
     ]
    },
    {
     "name": "stderr",
     "output_type": "stream",
     "text": [
      "Scraping guests:  20%|██        | 10/50 [00:03<00:13,  3.01it/s]"
     ]
    },
    {
     "name": "stdout",
     "output_type": "stream",
     "text": [
      "❌ Error for guest_id 4461304: 'NoneType' object has no attribute 'get'\n"
     ]
    },
    {
     "name": "stderr",
     "output_type": "stream",
     "text": [
      "Scraping guests:  38%|███▊      | 19/50 [00:07<00:10,  3.07it/s]"
     ]
    },
    {
     "name": "stdout",
     "output_type": "stream",
     "text": [
      "❌ Error for guest_id 428669771: 'NoneType' object has no attribute 'get'\n"
     ]
    },
    {
     "name": "stderr",
     "output_type": "stream",
     "text": [
      "Scraping guests:  58%|█████▊    | 29/50 [00:10<00:06,  3.13it/s]"
     ]
    },
    {
     "name": "stdout",
     "output_type": "stream",
     "text": [
      "❌ Error for guest_id 54440846: 'NoneType' object has no attribute 'get'\n"
     ]
    },
    {
     "name": "stderr",
     "output_type": "stream",
     "text": [
      "Scraping guests:  64%|██████▍   | 32/50 [00:12<00:07,  2.54it/s]"
     ]
    },
    {
     "name": "stdout",
     "output_type": "stream",
     "text": [
      "❌ Error for guest_id 225915373: 'NoneType' object has no attribute 'get'\n"
     ]
    },
    {
     "name": "stderr",
     "output_type": "stream",
     "text": [
      "Scraping guests:  68%|██████▊   | 34/50 [00:13<00:07,  2.21it/s]"
     ]
    },
    {
     "name": "stdout",
     "output_type": "stream",
     "text": [
      "❌ Error for guest_id 11043978: 'NoneType' object has no attribute 'get'\n"
     ]
    },
    {
     "name": "stderr",
     "output_type": "stream",
     "text": [
      "Scraping guests:  80%|████████  | 40/50 [00:16<00:03,  2.61it/s]"
     ]
    },
    {
     "name": "stdout",
     "output_type": "stream",
     "text": [
      "❌ Error for guest_id 38161415: 'NoneType' object has no attribute 'get'\n"
     ]
    },
    {
     "name": "stderr",
     "output_type": "stream",
     "text": [
      "Scraping guests: 100%|██████████| 50/50 [00:19<00:00,  2.50it/s]"
     ]
    },
    {
     "name": "stdout",
     "output_type": "stream",
     "text": [
      "✅ 所有文件已保存！\n"
     ]
    },
    {
     "name": "stderr",
     "output_type": "stream",
     "text": [
      "\n"
     ]
    }
   ],
   "source": [
    "\n",
    "batch_scrape(guest_ids, api_key, cookies)"
   ]
  }
 ],
 "metadata": {
  "kernelspec": {
   "display_name": "base",
   "language": "python",
   "name": "python3"
  },
  "language_info": {
   "codemirror_mode": {
    "name": "ipython",
    "version": 3
   },
   "file_extension": ".py",
   "mimetype": "text/x-python",
   "name": "python",
   "nbconvert_exporter": "python",
   "pygments_lexer": "ipython3",
   "version": "3.12.7"
  }
 },
 "nbformat": 4,
 "nbformat_minor": 5
}
